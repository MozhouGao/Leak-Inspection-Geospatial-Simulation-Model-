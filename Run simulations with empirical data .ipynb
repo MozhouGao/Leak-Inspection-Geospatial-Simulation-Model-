{
 "cells": [
  {
   "cell_type": "code",
   "execution_count": 14,
   "id": "21268a03",
   "metadata": {},
   "outputs": [],
   "source": [
    "from LDAR_dutyholder import LDAR_travel\n",
    "import numpy as np\n",
    "import datetime"
   ]
  },
  {
   "cell_type": "code",
   "execution_count": 2,
   "id": "bc230aa3",
   "metadata": {},
   "outputs": [],
   "source": [
    "# Create a inspection plan with name of dutyholder, id, epsg code of \n",
    "# the UTM_zone for projection and mode -> empirical\n",
    "A = LDAR_travel('A',1,26911,\"empirical\")"
   ]
  },
  {
   "cell_type": "code",
   "execution_count": 3,
   "id": "23f416e2",
   "metadata": {},
   "outputs": [],
   "source": [
    "# load service center list and site list \n",
    "A.read_service_cnt(r\"GrandPriarie.csv\",\"lon\",\"lat\")\n",
    "A.read_site_list(r\"GrandPriarie_sample_wells.csv\",\"Longitude\",'Latitude')"
   ]
  },
  {
   "cell_type": "code",
   "execution_count": 4,
   "id": "ca02bc78",
   "metadata": {},
   "outputs": [
    {
     "data": {
      "text/html": [
       "<div>\n",
       "<style scoped>\n",
       "    .dataframe tbody tr th:only-of-type {\n",
       "        vertical-align: middle;\n",
       "    }\n",
       "\n",
       "    .dataframe tbody tr th {\n",
       "        vertical-align: top;\n",
       "    }\n",
       "\n",
       "    .dataframe thead th {\n",
       "        text-align: right;\n",
       "    }\n",
       "</style>\n",
       "<table border=\"1\" class=\"dataframe\">\n",
       "  <thead>\n",
       "    <tr style=\"text-align: right;\">\n",
       "      <th></th>\n",
       "      <th>OID</th>\n",
       "      <th>Licence</th>\n",
       "      <th>CompName</th>\n",
       "      <th>Latitude</th>\n",
       "      <th>Longitude</th>\n",
       "      <th>KBE</th>\n",
       "      <th>GroundElev</th>\n",
       "      <th>SurfLoc</th>\n",
       "      <th>EDCT</th>\n",
       "      <th>RatingLev</th>\n",
       "      <th>LicStatus</th>\n",
       "      <th>LicStatDat</th>\n",
       "      <th>OpSurvProv</th>\n",
       "      <th>geometry</th>\n",
       "    </tr>\n",
       "  </thead>\n",
       "  <tbody>\n",
       "    <tr>\n",
       "      <th>0</th>\n",
       "      <td>290621</td>\n",
       "      <td>292435</td>\n",
       "      <td>Canadian Natural Resources Limited(0HE9)</td>\n",
       "      <td>54.905449</td>\n",
       "      <td>-118.757385</td>\n",
       "      <td>700.799988</td>\n",
       "      <td>695.700012</td>\n",
       "      <td>13-19-068-05W6</td>\n",
       "      <td>360.0</td>\n",
       "      <td>J</td>\n",
       "      <td>Issued</td>\n",
       "      <td>08-Sep-03</td>\n",
       "      <td>Sour</td>\n",
       "      <td>POINT (387324.050 6085683.980)</td>\n",
       "    </tr>\n",
       "    <tr>\n",
       "      <th>1</th>\n",
       "      <td>152326</td>\n",
       "      <td>144773</td>\n",
       "      <td>Canadian Natural Resources Limited(0HE9)</td>\n",
       "      <td>54.928215</td>\n",
       "      <td>-118.754448</td>\n",
       "      <td>674.500000</td>\n",
       "      <td>669.700012</td>\n",
       "      <td>06-31-068-05W6</td>\n",
       "      <td>NaN</td>\n",
       "      <td>J</td>\n",
       "      <td>Issued</td>\n",
       "      <td>13-Jul-90</td>\n",
       "      <td>Sour</td>\n",
       "      <td>POINT (387575.940 6088212.242)</td>\n",
       "    </tr>\n",
       "    <tr>\n",
       "      <th>2</th>\n",
       "      <td>470834</td>\n",
       "      <td>493209</td>\n",
       "      <td>Spartan Delta Corp.(A8HR)</td>\n",
       "      <td>54.959015</td>\n",
       "      <td>-118.668442</td>\n",
       "      <td>659.700012</td>\n",
       "      <td>653.700012</td>\n",
       "      <td>07-10-069-05W6</td>\n",
       "      <td>570.0</td>\n",
       "      <td>J</td>\n",
       "      <td>Issued</td>\n",
       "      <td>07-Jan-19</td>\n",
       "      <td>Sour</td>\n",
       "      <td>POINT (393168.417 6091504.385)</td>\n",
       "    </tr>\n",
       "    <tr>\n",
       "      <th>3</th>\n",
       "      <td>100850</td>\n",
       "      <td>91855</td>\n",
       "      <td>Whitecap Resources Inc.(A5BE)</td>\n",
       "      <td>54.918678</td>\n",
       "      <td>-118.896950</td>\n",
       "      <td>699.099976</td>\n",
       "      <td>693.700012</td>\n",
       "      <td>10-30-068-06W6</td>\n",
       "      <td>NaN</td>\n",
       "      <td>J</td>\n",
       "      <td>Issued</td>\n",
       "      <td>24-Aug-81</td>\n",
       "      <td>NaN</td>\n",
       "      <td>POINT (378416.640 6087389.345)</td>\n",
       "    </tr>\n",
       "    <tr>\n",
       "      <th>4</th>\n",
       "      <td>207975</td>\n",
       "      <td>202999</td>\n",
       "      <td>Whitecap Resources Inc.(A5BE)</td>\n",
       "      <td>54.919834</td>\n",
       "      <td>-118.907349</td>\n",
       "      <td>707.400024</td>\n",
       "      <td>698.400024</td>\n",
       "      <td>14-30-068-06W6</td>\n",
       "      <td>NaN</td>\n",
       "      <td>J</td>\n",
       "      <td>Issued</td>\n",
       "      <td>27-Jun-97</td>\n",
       "      <td>Sour</td>\n",
       "      <td>POINT (377753.720 6087536.046)</td>\n",
       "    </tr>\n",
       "  </tbody>\n",
       "</table>\n",
       "</div>"
      ],
      "text/plain": [
       "      OID  Licence                                  CompName   Latitude  \\\n",
       "0  290621   292435  Canadian Natural Resources Limited(0HE9)  54.905449   \n",
       "1  152326   144773  Canadian Natural Resources Limited(0HE9)  54.928215   \n",
       "2  470834   493209                 Spartan Delta Corp.(A8HR)  54.959015   \n",
       "3  100850    91855             Whitecap Resources Inc.(A5BE)  54.918678   \n",
       "4  207975   202999             Whitecap Resources Inc.(A5BE)  54.919834   \n",
       "\n",
       "    Longitude         KBE  GroundElev         SurfLoc   EDCT RatingLev  \\\n",
       "0 -118.757385  700.799988  695.700012  13-19-068-05W6  360.0         J   \n",
       "1 -118.754448  674.500000  669.700012  06-31-068-05W6    NaN         J   \n",
       "2 -118.668442  659.700012  653.700012  07-10-069-05W6  570.0         J   \n",
       "3 -118.896950  699.099976  693.700012  10-30-068-06W6    NaN         J   \n",
       "4 -118.907349  707.400024  698.400024  14-30-068-06W6    NaN         J   \n",
       "\n",
       "  LicStatus LicStatDat OpSurvProv                        geometry  \n",
       "0    Issued  08-Sep-03       Sour  POINT (387324.050 6085683.980)  \n",
       "1    Issued  13-Jul-90       Sour  POINT (387575.940 6088212.242)  \n",
       "2    Issued  07-Jan-19       Sour  POINT (393168.417 6091504.385)  \n",
       "3    Issued  24-Aug-81        NaN  POINT (378416.640 6087389.345)  \n",
       "4    Issued  27-Jun-97       Sour  POINT (377753.720 6087536.046)  "
      ]
     },
     "execution_count": 4,
     "metadata": {},
     "output_type": "execute_result"
    }
   ],
   "source": [
    "# veiw site list\n",
    "A.sites.head()"
   ]
  },
  {
   "cell_type": "code",
   "execution_count": 5,
   "id": "4410ade0",
   "metadata": {},
   "outputs": [
    {
     "data": {
      "text/html": [
       "<div>\n",
       "<style scoped>\n",
       "    .dataframe tbody tr th:only-of-type {\n",
       "        vertical-align: middle;\n",
       "    }\n",
       "\n",
       "    .dataframe tbody tr th {\n",
       "        vertical-align: top;\n",
       "    }\n",
       "\n",
       "    .dataframe thead th {\n",
       "        text-align: right;\n",
       "    }\n",
       "</style>\n",
       "<table border=\"1\" class=\"dataframe\">\n",
       "  <thead>\n",
       "    <tr style=\"text-align: right;\">\n",
       "      <th></th>\n",
       "      <th>town</th>\n",
       "      <th>lat</th>\n",
       "      <th>lon</th>\n",
       "      <th>geometry</th>\n",
       "    </tr>\n",
       "  </thead>\n",
       "  <tbody>\n",
       "    <tr>\n",
       "      <th>0</th>\n",
       "      <td>Grande Prairie</td>\n",
       "      <td>55.16667</td>\n",
       "      <td>-118.80271</td>\n",
       "      <td>POINT (385168.527 6114821.823)</td>\n",
       "    </tr>\n",
       "  </tbody>\n",
       "</table>\n",
       "</div>"
      ],
      "text/plain": [
       "             town       lat        lon                        geometry\n",
       "0  Grande Prairie  55.16667 -118.80271  POINT (385168.527 6114821.823)"
      ]
     },
     "execution_count": 5,
     "metadata": {},
     "output_type": "execute_result"
    }
   ],
   "source": [
    "# veiw service center list \n",
    "A.sc"
   ]
  },
  {
   "cell_type": "code",
   "execution_count": 6,
   "id": "dae9575c",
   "metadata": {},
   "outputs": [],
   "source": [
    "# download road networks from Open Street Map\n",
    "A.download_graph_from_OSM(30000,'drive_service')"
   ]
  },
  {
   "cell_type": "code",
   "execution_count": 7,
   "id": "2e1320e3",
   "metadata": {},
   "outputs": [
    {
     "data": {
      "image/png": "[encoded data removed]",
      "text/plain": [
       "<Figure size 360x360 with 1 Axes>"
      ]
     },
     "metadata": {
      "needs_background": "light"
     },
     "output_type": "display_data"
    }
   ],
   "source": [
    "A.create_plot('empirical')"
   ]
  },
  {
   "cell_type": "code",
   "execution_count": 8,
   "id": "4ea79183",
   "metadata": {},
   "outputs": [],
   "source": [
    "A.get_site_nodes()\n",
    "A.get_home_nodes()"
   ]
  },
  {
   "cell_type": "code",
   "execution_count": 10,
   "id": "4167ef3c",
   "metadata": {},
   "outputs": [],
   "source": [
    "# add time and distance correction from Google Distance Matrix \n",
    "A.sites['dist_diff'] = np.zeros(len(A.sites))\n",
    "A.sites['time_diff'] = np.zeros(len(A.sites))\n",
    "# create ID\n",
    "A.sites['siteID'] = np.arange(1,len(A.sites)+1,1)\n",
    "# add node for each site \n",
    "A.sites['node'] = A.site_nodes\n",
    "# sample inspection time from OGI inspection time list \n",
    "A.sample_inspection_time('ins_time_example.csv')"
   ]
  },
  {
   "cell_type": "code",
   "execution_count": 15,
   "id": "c1405b8c",
   "metadata": {},
   "outputs": [],
   "source": [
    "# case: 1 leak inspection agent, and he works 8 hours per day\n",
    "start_time = datetime.datetime(2022,1,1,8)\n",
    "end_time = datetime.datetime(2022,1,1,16)\n",
    "A.create_agent(1,start_time,end_time)"
   ]
  },
  {
   "cell_type": "code",
   "execution_count": 16,
   "id": "189cdade",
   "metadata": {},
   "outputs": [
    {
     "name": "stdout",
     "output_type": "stream",
     "text": [
      "2022-01-01 09:11:54.200000 finished leak inspection for site:  25 49\n",
      "go home - we have leftover:  43\n",
      "go home - we have leftover:  36\n",
      "go home - we have leftover:  29\n",
      "go home - we have leftover:  22\n",
      "go home - we have leftover:  15\n",
      "go home - we have leftover:  8\n",
      "go home - we have leftover:  2\n",
      "go home, finished the last site of program:  0\n"
     ]
    }
   ],
   "source": [
    "# start leak inspection \n",
    "A.deploy_agents()"
   ]
  },
  {
   "cell_type": "code",
   "execution_count": 17,
   "id": "a54005d8",
   "metadata": {},
   "outputs": [],
   "source": [
    "# generate leak inspection report \n",
    "A.generate_inspection_report()"
   ]
  },
  {
   "cell_type": "code",
   "execution_count": 19,
   "id": "ba5a9e6e",
   "metadata": {},
   "outputs": [
    {
     "data": {
      "text/html": [
       "<div>\n",
       "<style scoped>\n",
       "    .dataframe tbody tr th:only-of-type {\n",
       "        vertical-align: middle;\n",
       "    }\n",
       "\n",
       "    .dataframe tbody tr th {\n",
       "        vertical-align: top;\n",
       "    }\n",
       "\n",
       "    .dataframe thead th {\n",
       "        text-align: right;\n",
       "    }\n",
       "</style>\n",
       "<table border=\"1\" class=\"dataframe\">\n",
       "  <thead>\n",
       "    <tr style=\"text-align: right;\">\n",
       "      <th></th>\n",
       "      <th>transit_between_sites</th>\n",
       "      <th>dist_between_sites</th>\n",
       "      <th>transit_home_site</th>\n",
       "      <th>dist_home_site</th>\n",
       "      <th>daily_num_sites</th>\n",
       "      <th>Nodes</th>\n",
       "    </tr>\n",
       "  </thead>\n",
       "  <tbody>\n",
       "    <tr>\n",
       "      <th>0</th>\n",
       "      <td>2653.3</td>\n",
       "      <td>56501.681</td>\n",
       "      <td>1360.3</td>\n",
       "      <td>31303.491</td>\n",
       "      <td>8</td>\n",
       "      <td>[[2079389083, 2079281262], [2079281262, 198907...</td>\n",
       "    </tr>\n",
       "    <tr>\n",
       "      <th>1</th>\n",
       "      <td>681.9</td>\n",
       "      <td>13590.617</td>\n",
       "      <td>3031.3</td>\n",
       "      <td>68831.847</td>\n",
       "      <td>8</td>\n",
       "      <td>[[2079389083, 345294449], [345294449, 34527930...</td>\n",
       "    </tr>\n",
       "    <tr>\n",
       "      <th>2</th>\n",
       "      <td>1526.7</td>\n",
       "      <td>32321.847</td>\n",
       "      <td>3109.5</td>\n",
       "      <td>72196.033</td>\n",
       "      <td>8</td>\n",
       "      <td>[[2079389083, 345371196], [345371196, 34537119...</td>\n",
       "    </tr>\n",
       "    <tr>\n",
       "      <th>3</th>\n",
       "      <td>3018.3</td>\n",
       "      <td>71934.373</td>\n",
       "      <td>2895.2</td>\n",
       "      <td>68731.743</td>\n",
       "      <td>8</td>\n",
       "      <td>[[2079389083, 343234273], [343234273, 34320398...</td>\n",
       "    </tr>\n",
       "    <tr>\n",
       "      <th>4</th>\n",
       "      <td>4493.6</td>\n",
       "      <td>97704.526</td>\n",
       "      <td>3023.2</td>\n",
       "      <td>65961.193</td>\n",
       "      <td>8</td>\n",
       "      <td>[[2079389083, 343247622], [343247622, 55553189...</td>\n",
       "    </tr>\n",
       "    <tr>\n",
       "      <th>5</th>\n",
       "      <td>1912.2</td>\n",
       "      <td>39648.770</td>\n",
       "      <td>3160.9</td>\n",
       "      <td>69721.802</td>\n",
       "      <td>8</td>\n",
       "      <td>[[2079389083, 9017491539], [9017491539, 343259...</td>\n",
       "    </tr>\n",
       "    <tr>\n",
       "      <th>6</th>\n",
       "      <td>3372.0</td>\n",
       "      <td>83775.678</td>\n",
       "      <td>2443.1</td>\n",
       "      <td>53774.419</td>\n",
       "      <td>7</td>\n",
       "      <td>[[2079389083, 343281024], [343281024, 34328102...</td>\n",
       "    </tr>\n",
       "    <tr>\n",
       "      <th>7</th>\n",
       "      <td>887.8</td>\n",
       "      <td>22618.029</td>\n",
       "      <td>2267.6</td>\n",
       "      <td>52370.230</td>\n",
       "      <td>2</td>\n",
       "      <td>[[2079389083, 2079394508], [2079394508, 198746...</td>\n",
       "    </tr>\n",
       "  </tbody>\n",
       "</table>\n",
       "</div>"
      ],
      "text/plain": [
       "   transit_between_sites  dist_between_sites  transit_home_site  \\\n",
       "0                 2653.3           56501.681             1360.3   \n",
       "1                  681.9           13590.617             3031.3   \n",
       "2                 1526.7           32321.847             3109.5   \n",
       "3                 3018.3           71934.373             2895.2   \n",
       "4                 4493.6           97704.526             3023.2   \n",
       "5                 1912.2           39648.770             3160.9   \n",
       "6                 3372.0           83775.678             2443.1   \n",
       "7                  887.8           22618.029             2267.6   \n",
       "\n",
       "   dist_home_site  daily_num_sites  \\\n",
       "0       31303.491                8   \n",
       "1       68831.847                8   \n",
       "2       72196.033                8   \n",
       "3       68731.743                8   \n",
       "4       65961.193                8   \n",
       "5       69721.802                8   \n",
       "6       53774.419                7   \n",
       "7       52370.230                2   \n",
       "\n",
       "                                               Nodes  \n",
       "0  [[2079389083, 2079281262], [2079281262, 198907...  \n",
       "1  [[2079389083, 345294449], [345294449, 34527930...  \n",
       "2  [[2079389083, 345371196], [345371196, 34537119...  \n",
       "3  [[2079389083, 343234273], [343234273, 34320398...  \n",
       "4  [[2079389083, 343247622], [343247622, 55553189...  \n",
       "5  [[2079389083, 9017491539], [9017491539, 343259...  \n",
       "6  [[2079389083, 343281024], [343281024, 34328102...  \n",
       "7  [[2079389083, 2079394508], [2079394508, 198746...  "
      ]
     },
     "execution_count": 19,
     "metadata": {},
     "output_type": "execute_result"
    }
   ],
   "source": [
    "A.Report[0]"
   ]
  },
  {
   "cell_type": "code",
   "execution_count": null,
   "id": "a07448d0",
   "metadata": {},
   "outputs": [],
   "source": []
  }
 ],
 "metadata": {
  "kernelspec": {
   "display_name": "Python 3 (ipykernel)",
   "language": "python",
   "name": "python3"
  },
  "language_info": {
   "codemirror_mode": {
    "name": "ipython",
    "version": 3
   },
   "file_extension": ".py",
   "mimetype": "text/x-python",
   "name": "python",
   "nbconvert_exporter": "python",
   "pygments_lexer": "ipython3",
   "version": "3.8.12"
  }
 },
 "nbformat": 4,
 "nbformat_minor": 5
}
