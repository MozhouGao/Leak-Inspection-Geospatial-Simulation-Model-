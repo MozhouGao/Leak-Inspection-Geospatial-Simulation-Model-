{
 "cells": [
  {
   "cell_type": "code",
   "execution_count": 1,
   "id": "9a7fe149",
   "metadata": {},
   "outputs": [],
   "source": [
    "from LDAR_dutyholder import LDAR_travel\n",
    "import datetime\n",
    "import numpy as np"
   ]
  },
  {
   "cell_type": "code",
   "execution_count": 2,
   "id": "c692d406",
   "metadata": {},
   "outputs": [],
   "source": [
    "# Create a inspection plan with name of dutyholder, id, epsg code of \n",
    "# the UTM_zone for projection, and mode -> mirror  \n",
    "A = LDAR_travel('shared',1,26912,'mirror')"
   ]
  },
  {
   "cell_type": "code",
   "execution_count": 3,
   "id": "5bd17880",
   "metadata": {},
   "outputs": [],
   "source": [
    "# create a graph with service center locates at 0,0 ot cartesian coordinate system \n",
    "X = [0]\n",
    "Y = [0]\n",
    "A.create_empty_graph_with_sc(X,Y)"
   ]
  },
  {
   "cell_type": "code",
   "execution_count": 4,
   "id": "d06dba2d",
   "metadata": {},
   "outputs": [],
   "source": [
    "# create highway, and road setting (Forested), the default setting is Agriculture\n",
    "nid,eid = A.create_highways(2138027,676423396,15000,5000,80,setting= \"Forested\")\n",
    "# randomly sampled 50 points to represent LDAR sites \n",
    "A.create_random_points_as_LDAR_sites(50,15000)"
   ]
  },
  {
   "cell_type": "code",
   "execution_count": 5,
   "id": "54d67ae2",
   "metadata": {},
   "outputs": [],
   "source": [
    "# Add attributes to site list \n",
    "A.sites['lon'] = A.sites.geometry.x\n",
    "A.sites['lat'] = A.sites.geometry.y\n",
    "A.sites['dist_diff'] = np.zeros(len(A.sites))\n",
    "A.sites['time_diff'] = np.zeros(len(A.sites))\n",
    "A.sites['siteID'] = np.arange(1,len(A.sites)+1,1)\n",
    "# create gravel roads to connect sites to highway\n",
    "nid,eid = A.create_gravel_roads_forest (15000,500,10,nid,eid,80,50)\n",
    "nid,eid = A.create_backroads_forest(nid,eid,50,30)\n",
    "A.sites['node'] = A.Site_nodes\n",
    "# sample the inspection time for each site \n",
    "A.sample_inspection_time(r'ins_time_example.csv')"
   ]
  },
  {
   "cell_type": "code",
   "execution_count": 7,
   "id": "1c912216",
   "metadata": {},
   "outputs": [
    {
     "data": {
      "image/png": "[encoded data removed]",
      "text/plain": [
       "<Figure size 360x360 with 1 Axes>"
      ]
     },
     "metadata": {
      "needs_background": "light"
     },
     "output_type": "display_data"
    }
   ],
   "source": [
    "# visualize the artifical O&G field \n",
    "A.create_GDB('Forested',4326)\n",
    "A.create_plot(setting = \"Forested\")"
   ]
  },
  {
   "cell_type": "code",
   "execution_count": 8,
   "id": "74960ce3",
   "metadata": {},
   "outputs": [],
   "source": [
    "# case: 1 leak inspection agent, and he works 8 hours per day\n",
    "start_time = datetime.datetime(2022,1,1,8)\n",
    "end_time = datetime.datetime(2022,1,1,16)\n",
    "A.create_agent(1,start_time,end_time)"
   ]
  },
  {
   "cell_type": "code",
   "execution_count": 9,
   "id": "51859825",
   "metadata": {},
   "outputs": [
    {
     "name": "stdout",
     "output_type": "stream",
     "text": [
      "2022-01-01 09:04:11.922185 finished leak inspection for site:  42 50\n",
      "go home - we have leftover:  45\n",
      "go home - we have leftover:  38\n",
      "go home not even can travel to the next site:  32\n",
      "2022-01-04 09:18:24.959472 finished leak inspection for site:  44 31\n",
      "go home - we have leftover:  26\n",
      "go home - we have leftover:  21\n",
      "go home not even can travel to the next site:  14\n",
      "2022-01-07 09:20:41.542134 finished leak inspection for site:  33 13\n",
      "go home - we have leftover:  8\n",
      "go home - we have leftover:  2\n",
      "go home, finished the last site of program:  0\n"
     ]
    }
   ],
   "source": [
    "# start the leak inspection \n",
    "A.deploy_agents()"
   ]
  },
  {
   "cell_type": "code",
   "execution_count": 12,
   "id": "43ff8afc",
   "metadata": {},
   "outputs": [],
   "source": [
    "# generate the survey report \n",
    "A.generate_inspection_report()"
   ]
  },
  {
   "cell_type": "code",
   "execution_count": 13,
   "id": "25695ec7",
   "metadata": {},
   "outputs": [
    {
     "data": {
      "text/html": [
       "<div>\n",
       "<style scoped>\n",
       "    .dataframe tbody tr th:only-of-type {\n",
       "        vertical-align: middle;\n",
       "    }\n",
       "\n",
       "    .dataframe tbody tr th {\n",
       "        vertical-align: top;\n",
       "    }\n",
       "\n",
       "    .dataframe thead th {\n",
       "        text-align: right;\n",
       "    }\n",
       "</style>\n",
       "<table border=\"1\" class=\"dataframe\">\n",
       "  <thead>\n",
       "    <tr style=\"text-align: right;\">\n",
       "      <th></th>\n",
       "      <th>transit_between_sites</th>\n",
       "      <th>dist_between_sites</th>\n",
       "      <th>transit_home_site</th>\n",
       "      <th>dist_home_site</th>\n",
       "      <th>daily_num_sites</th>\n",
       "      <th>Nodes</th>\n",
       "    </tr>\n",
       "  </thead>\n",
       "  <tbody>\n",
       "    <tr>\n",
       "      <th>0</th>\n",
       "      <td>4486.693610</td>\n",
       "      <td>59057.278825</td>\n",
       "      <td>874.694922</td>\n",
       "      <td>13520.879819</td>\n",
       "      <td>7</td>\n",
       "      <td>[[0, 676423530], [676423530, 676423536], [6764...</td>\n",
       "    </tr>\n",
       "    <tr>\n",
       "      <th>1</th>\n",
       "      <td>5336.608012</td>\n",
       "      <td>58887.243108</td>\n",
       "      <td>3982.489877</td>\n",
       "      <td>58081.850090</td>\n",
       "      <td>8</td>\n",
       "      <td>[[0, 676423466], [676423466, 676423448], [6764...</td>\n",
       "    </tr>\n",
       "    <tr>\n",
       "      <th>2</th>\n",
       "      <td>5867.037006</td>\n",
       "      <td>61628.686656</td>\n",
       "      <td>4205.139476</td>\n",
       "      <td>62855.701280</td>\n",
       "      <td>6</td>\n",
       "      <td>[[0, 676423478], [676423478, 676423458], [6764...</td>\n",
       "    </tr>\n",
       "    <tr>\n",
       "      <th>3</th>\n",
       "      <td>6239.499264</td>\n",
       "      <td>62910.234651</td>\n",
       "      <td>1874.514322</td>\n",
       "      <td>25922.513512</td>\n",
       "      <td>7</td>\n",
       "      <td>[[0, 676423534], [676423534, 676423546], [6764...</td>\n",
       "    </tr>\n",
       "    <tr>\n",
       "      <th>4</th>\n",
       "      <td>8535.768834</td>\n",
       "      <td>112179.100399</td>\n",
       "      <td>4253.634964</td>\n",
       "      <td>61944.683983</td>\n",
       "      <td>6</td>\n",
       "      <td>[[0, 676423528], [676423528, 676423468], [6764...</td>\n",
       "    </tr>\n",
       "    <tr>\n",
       "      <th>5</th>\n",
       "      <td>4711.135736</td>\n",
       "      <td>47948.875113</td>\n",
       "      <td>4035.944243</td>\n",
       "      <td>60496.865291</td>\n",
       "      <td>7</td>\n",
       "      <td>[[0, 676423492], [676423492, 676423484], [6764...</td>\n",
       "    </tr>\n",
       "    <tr>\n",
       "      <th>6</th>\n",
       "      <td>5221.074997</td>\n",
       "      <td>61080.570085</td>\n",
       "      <td>2857.099247</td>\n",
       "      <td>42668.520335</td>\n",
       "      <td>7</td>\n",
       "      <td>[[0, 676423512], [676423512, 676423518], [6764...</td>\n",
       "    </tr>\n",
       "    <tr>\n",
       "      <th>7</th>\n",
       "      <td>6347.309664</td>\n",
       "      <td>89312.820143</td>\n",
       "      <td>4276.151378</td>\n",
       "      <td>62556.745985</td>\n",
       "      <td>7</td>\n",
       "      <td>[[0, 676423514], [676423514, 676423524], [6764...</td>\n",
       "    </tr>\n",
       "    <tr>\n",
       "      <th>8</th>\n",
       "      <td>1592.564404</td>\n",
       "      <td>18214.527107</td>\n",
       "      <td>4140.360952</td>\n",
       "      <td>57836.267569</td>\n",
       "      <td>2</td>\n",
       "      <td>[[0, 676423486], [676423486, 676423504], [6764...</td>\n",
       "    </tr>\n",
       "  </tbody>\n",
       "</table>\n",
       "</div>"
      ],
      "text/plain": [
       "   transit_between_sites  dist_between_sites  transit_home_site  \\\n",
       "0            4486.693610        59057.278825         874.694922   \n",
       "1            5336.608012        58887.243108        3982.489877   \n",
       "2            5867.037006        61628.686656        4205.139476   \n",
       "3            6239.499264        62910.234651        1874.514322   \n",
       "4            8535.768834       112179.100399        4253.634964   \n",
       "5            4711.135736        47948.875113        4035.944243   \n",
       "6            5221.074997        61080.570085        2857.099247   \n",
       "7            6347.309664        89312.820143        4276.151378   \n",
       "8            1592.564404        18214.527107        4140.360952   \n",
       "\n",
       "   dist_home_site  daily_num_sites  \\\n",
       "0    13520.879819                7   \n",
       "1    58081.850090                8   \n",
       "2    62855.701280                6   \n",
       "3    25922.513512                7   \n",
       "4    61944.683983                6   \n",
       "5    60496.865291                7   \n",
       "6    42668.520335                7   \n",
       "7    62556.745985                7   \n",
       "8    57836.267569                2   \n",
       "\n",
       "                                               Nodes  \n",
       "0  [[0, 676423530], [676423530, 676423536], [6764...  \n",
       "1  [[0, 676423466], [676423466, 676423448], [6764...  \n",
       "2  [[0, 676423478], [676423478, 676423458], [6764...  \n",
       "3  [[0, 676423534], [676423534, 676423546], [6764...  \n",
       "4  [[0, 676423528], [676423528, 676423468], [6764...  \n",
       "5  [[0, 676423492], [676423492, 676423484], [6764...  \n",
       "6  [[0, 676423512], [676423512, 676423518], [6764...  \n",
       "7  [[0, 676423514], [676423514, 676423524], [6764...  \n",
       "8  [[0, 676423486], [676423486, 676423504], [6764...  "
      ]
     },
     "execution_count": 13,
     "metadata": {},
     "output_type": "execute_result"
    }
   ],
   "source": [
    "A.Report[0]"
   ]
  },
  {
   "cell_type": "code",
   "execution_count": null,
   "id": "d7a3dcac",
   "metadata": {},
   "outputs": [],
   "source": []
  }
 ],
 "metadata": {
  "kernelspec": {
   "display_name": "Python 3 (ipykernel)",
   "language": "python",
   "name": "python3"
  },
  "language_info": {
   "codemirror_mode": {
    "name": "ipython",
    "version": 3
   },
   "file_extension": ".py",
   "mimetype": "text/x-python",
   "name": "python",
   "nbconvert_exporter": "python",
   "pygments_lexer": "ipython3",
   "version": "3.8.12"
  }
 },
 "nbformat": 4,
 "nbformat_minor": 5
}
