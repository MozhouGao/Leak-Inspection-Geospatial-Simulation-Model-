{
 "cells": [
  {
   "cell_type": "code",
   "execution_count": null,
   "id": "24bf1371",
   "metadata": {},
   "outputs": [],
   "source": [
    "from LDAR_company import LDAR_travel\n",
    "import datetime\n",
    "import numpy as np\n",
    "import random\n",
    "import os \n",
    "import pandas as pd "
   ]
  },
  {
   "cell_type": "code",
   "execution_count": null,
   "id": "2e309886",
   "metadata": {},
   "outputs": [],
   "source": [
    "path = r\"D:\\Shared_service_LDAR\\CVT_mins\\NumberServiceCenter\""
   ]
  },
  {
   "cell_type": "code",
   "execution_count": null,
   "id": "e19fab69",
   "metadata": {},
   "outputs": [],
   "source": [
    "listnumbers = [0,1,2,3,4,5,6,7,8,9]\n",
    "Folders = ['Grid{}'.format(e) for e in listnumbers]\n",
    "for f in Folders:\n",
    "    os.makedirs(os.path.join(path, f))\n",
    "    \n",
    "Folders = ['Forest{}'.format(e) for e in listnumbers]\n",
    "for f in Folders:\n",
    "    os.makedirs(os.path.join(path, f))"
   ]
  },
  {
   "cell_type": "code",
   "execution_count": null,
   "id": "74820e70",
   "metadata": {},
   "outputs": [],
   "source": [
    "HomeX = []\n",
    "HomeY = [] \n",
    "lx = -15000\n",
    "ux = 15000\n",
    "ly = -15000\n",
    "uy = 15000\n",
    "while len(HomeX)<=5:\n",
    "    x = random.uniform(lx,ux)\n",
    "    x = np.round(x,2)\n",
    "    HomeX.append(x)\n",
    "    y = random.uniform(ly,uy)\n",
    "    y = np.round(y,2)\n",
    "    HomeY.append(y)"
   ]
  },
  {
   "cell_type": "code",
   "execution_count": null,
   "id": "b238a866",
   "metadata": {},
   "outputs": [],
   "source": [
    "HomeX"
   ]
  },
  {
   "cell_type": "code",
   "execution_count": null,
   "id": "e8887e2e",
   "metadata": {},
   "outputs": [],
   "source": [
    "HomeX = [0] + HomeX \n",
    "HomeY = [0] + HomeY "
   ]
  },
  {
   "cell_type": "code",
   "execution_count": null,
   "id": "bc7548da",
   "metadata": {},
   "outputs": [],
   "source": [
    "df= pd.DataFrame(data ={'HomeID':range(1,8,1),\n",
    "                       'HomeX':HomeX,\n",
    "                       'HomeY':HomeY})"
   ]
  },
  {
   "cell_type": "code",
   "execution_count": null,
   "id": "69a2e2c8",
   "metadata": {},
   "outputs": [],
   "source": [
    "df.to_csv(r\"D:\\Shared_service_LDAR\\CVT_mins\\NumberServiceCenter\\Home.csv\")"
   ]
  },
  {
   "cell_type": "code",
   "execution_count": null,
   "id": "8071d483",
   "metadata": {},
   "outputs": [],
   "source": [
    "nopt = 5 \n",
    "sn = 300\n",
    "P = list(range(nopt))\n",
    "OPT = [random.choice(P) for i in range(sn)]\n",
    "\n",
    "while len(set(OPT)) != nopt: \n",
    "    OPT = [random.choice(P) for i in range(sn)]"
   ]
  },
  {
   "cell_type": "code",
   "execution_count": null,
   "id": "6188dea1",
   "metadata": {},
   "outputs": [],
   "source": [
    "Rep = [0,1,2,3,4,5,6,7,8,9]"
   ]
  },
  {
   "cell_type": "code",
   "execution_count": null,
   "id": "c09ed09e",
   "metadata": {},
   "outputs": [],
   "source": [
    "for rep in Rep:\n",
    "    for ind in range(1,8,1):\n",
    "        A = LDAR_travel('shared',1,26912,'mirror')\n",
    "        A.read_site_list(r\"D:\\Shared_service_LDAR\\CVT_mins\\NumberServiceCenter\\sites{}.csv\".format(rep),\"lon\",'lat',prj=26912)\n",
    "        X = HomeX[:ind]\n",
    "        Y = HomeY[:ind]\n",
    "\n",
    "        num_sc = len(X)\n",
    "\n",
    "        A.create_empty_graph_with_sc(X,Y)\n",
    "        nid,eid = A.create_highways(2138027,676423396,15000,5000,80)\n",
    "        nid,eid = A.create_backroads_grid(nid,eid,80,30)\n",
    "        A.create_GDB('Agriculture',4326)\n",
    "        A.sites['node'] = A.Site_nodes\n",
    "        #A.sites['OPT'] = OPT \n",
    "        ####################### Shared ########################\n",
    "        start_time = datetime.datetime(2022,1,1,8)\n",
    "        end_time = datetime.datetime(2022,1,1,16)\n",
    "        A.create_agent(1,start_time,end_time)\n",
    "        A.deploy_agents()\n",
    "        A.generate_inspection_report()\n",
    "        i = 0 \n",
    "        for report in A.Report: \n",
    "            report.to_csv(r\"D:\\Shared_service_LDAR\\CVT_mins\\NumberServiceCenter\\Grid{}\\results_share_{}_{}.csv\".format(rep,num_sc,i),sep=',')\n",
    "\n",
    "            i += 1 \n",
    "\n",
    "        ####################### Duty-holder-Independent#########\n",
    "        start_time = datetime.datetime(2022,1,1,8)\n",
    "        end_time = datetime.datetime(2022,1,1,16)\n",
    "        A.create_agent(1,start_time,end_time,Shared = False, Dutyholder = 'OPT')\n",
    "\n",
    "        A.deploy_agents(Shared = False)\n",
    "        A.generate_inspection_report(Shared = False)\n",
    "\n",
    "        i = 0 \n",
    "        for report in A.Report: \n",
    "            report.to_csv(r\"D:\\Shared_service_LDAR\\CVT_mins\\NumberServiceCenter\\Grid{}\\results_opt_{}_{}.csv\".format(rep,num_sc,i),sep=',')\n",
    "\n",
    "            i += 1 \n",
    "\n",
    "    \n",
    "    "
   ]
  },
  {
   "cell_type": "markdown",
   "id": "29582551",
   "metadata": {},
   "source": [
    "### Forest"
   ]
  },
  {
   "cell_type": "code",
   "execution_count": null,
   "id": "f8a85b18",
   "metadata": {},
   "outputs": [],
   "source": [
    "R = [0,1,2,3,4,5,6,7,8,9]"
   ]
  },
  {
   "cell_type": "code",
   "execution_count": null,
   "id": "ed9113a1",
   "metadata": {},
   "outputs": [],
   "source": [
    "for rep in R:\n",
    "    for ind in range(1,8,1):\n",
    "        A = LDAR_travel('shared',1,26912,'mirror')\n",
    "        A.read_site_list(r\"D:\\Shared_service_LDAR\\CVT_mins\\NumberServiceCenter\\sites{}.csv\".format(rep),\"lon\",'lat',prj=26912)\n",
    "        X = HomeX[:ind]\n",
    "        Y = HomeY[:ind]\n",
    "\n",
    "        num_sc = len(X)\n",
    "\n",
    "        A.create_empty_graph_with_sc(X,Y)\n",
    "        nid,eid = A.create_highways(2138027,676423396,15000,5000,80,setting= \"Forested\")\n",
    "        nid,eid = A.create_gravel_roads_forest (15000,500,10,nid,eid,80,50)\n",
    "        nid,eid = A.create_backroads_forest(nid,eid,50,30)\n",
    "        A.create_GDB('Forested',4326)\n",
    "        A.sites['node'] = A.Site_nodes\n",
    "        #A.sites['OPT'] = OPT \n",
    "        ####################### Shared ########################\n",
    "        start_time = datetime.datetime(2022,1,1,8)\n",
    "        end_time = datetime.datetime(2022,1,1,16)\n",
    "        A.create_agent(1,start_time,end_time)\n",
    "        A.deploy_agents()\n",
    "        A.generate_inspection_report()\n",
    "        i = 0 \n",
    "        for report in A.Report: \n",
    "            report.to_csv(r\"D:\\Shared_service_LDAR\\CVT_mins\\NumberServiceCenter\\Forest{}\\results_share_{}_{}.csv\".format(rep,num_sc,i),sep=',')\n",
    "\n",
    "            i += 1 \n",
    "\n",
    "        ####################### Duty-holder-Independent#########\n",
    "        start_time = datetime.datetime(2022,1,1,8)\n",
    "        end_time = datetime.datetime(2022,1,1,16)\n",
    "        A.create_agent(1,start_time,end_time,Shared = False, Dutyholder = 'OPT')\n",
    "\n",
    "        A.deploy_agents(Shared = False)\n",
    "        A.generate_inspection_report(Shared = False)\n",
    "\n",
    "        i = 0 \n",
    "        for report in A.Report: \n",
    "            report.to_csv(r\"D:\\Shared_service_LDAR\\CVT_mins\\NumberServiceCenter\\Forest{}\\results_opt_{}_{}.csv\".format(rep,num_sc,i),sep=',')\n",
    "\n",
    "            i += 1 \n"
   ]
  },
  {
   "cell_type": "code",
   "execution_count": null,
   "id": "de72a8d4",
   "metadata": {},
   "outputs": [],
   "source": []
  }
 ],
 "metadata": {
  "kernelspec": {
   "display_name": "Python 3 (ipykernel)",
   "language": "python",
   "name": "python3"
  },
  "language_info": {
   "codemirror_mode": {
    "name": "ipython",
    "version": 3
   },
   "file_extension": ".py",
   "mimetype": "text/x-python",
   "name": "python",
   "nbconvert_exporter": "python",
   "pygments_lexer": "ipython3",
   "version": "3.9.7"
  }
 },
 "nbformat": 4,
 "nbformat_minor": 5
}
