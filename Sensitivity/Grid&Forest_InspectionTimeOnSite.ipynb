{
 "cells": [
  {
   "cell_type": "code",
   "execution_count": null,
   "id": "9d650bf8",
   "metadata": {},
   "outputs": [],
   "source": [
    "from LDAR_company import LDAR_travel\n",
    "import datetime\n",
    "import numpy as np\n",
    "import random\n",
    "import os \n",
    "import pandas as pd "
   ]
  },
  {
   "cell_type": "code",
   "execution_count": null,
   "id": "676219aa",
   "metadata": {},
   "outputs": [],
   "source": [
    "path = r\"D:\\Shared_service_LDAR\\CVT\\InspectionTime\""
   ]
  },
  {
   "cell_type": "code",
   "execution_count": null,
   "id": "ca403f45",
   "metadata": {},
   "outputs": [],
   "source": [
    "listnumbers = [0,1,2,3,4,5,6,7,8,9]\n",
    "Folders = ['Grid{}'.format(e) for e in listnumbers]\n",
    "for f in Folders:\n",
    "    os.makedirs(os.path.join(path, f))\n",
    "    \n",
    "Folders = ['Forest{}'.format(e) for e in listnumbers]\n",
    "for f in Folders:\n",
    "    os.makedirs(os.path.join(path, f))"
   ]
  },
  {
   "cell_type": "code",
   "execution_count": null,
   "id": "52df96c0",
   "metadata": {},
   "outputs": [],
   "source": [
    "IS = [0.9,0.8,0.7,0.6,0.5,0.4,0.3,0.2,0.1]"
   ]
  },
  {
   "cell_type": "code",
   "execution_count": null,
   "id": "903c3a2b",
   "metadata": {},
   "outputs": [],
   "source": [
    "reps = [0,1,2,3,4,5,6,7,8,9]"
   ]
  },
  {
   "cell_type": "markdown",
   "id": "fbd21176",
   "metadata": {},
   "source": [
    "### Grid "
   ]
  },
  {
   "cell_type": "code",
   "execution_count": null,
   "id": "c73ad59c",
   "metadata": {},
   "outputs": [],
   "source": [
    "for rep in reps:\n",
    "    for ist in IS:\n",
    "        df1 = pd.read_csv(r\"D:\\Shared_service_LDAR\\CVT\\InspectionTime\\sites{}.csv\".format(rep),sep=',')\n",
    "        TOS = np.array(df1.TOS)\n",
    "        A = LDAR_travel('shared',1,26912,'mirror')\n",
    "        A.read_site_list(r\"D:\\Shared_service_LDAR\\CVT\\InspectionTime\\sites{}.csv\".format(rep),\"lon\",'lat',prj=26912)\n",
    "        X = [0]\n",
    "        Y = [0]\n",
    "        A.create_empty_graph_with_sc(X,Y)\n",
    "        nid,eid = A.create_highways(2138027,676423396,15000,5000,80)\n",
    "        nid,eid = A.create_backroads_grid(nid,eid,80,30)\n",
    "        A.create_GDB('Agriculture',4326)\n",
    "        A.sites['node'] = A.Site_nodes\n",
    "        A.sites['TOS'] = TOS*ist\n",
    "        \n",
    "       ####################### Shared ########################\n",
    "        start_time = datetime.datetime(2022,1,1,8)\n",
    "        end_time = datetime.datetime(2022,1,1,16)\n",
    "        A.create_agent(1,start_time,end_time)\n",
    "        A.deploy_agents()\n",
    "        A.generate_inspection_report()\n",
    "        i = 0 \n",
    "        for report in A.Report: \n",
    "            report.to_csv(r\"D:\\Shared_service_LDAR\\CVT\\InspectionTime\\Grid{}\\results_share_{}_{}.csv\".format(rep,ist,i),sep=',')\n",
    "\n",
    "            i += 1 \n",
    "\n",
    "        ####################### Duty-holder-Independent#########\n",
    "        start_time = datetime.datetime(2022,1,1,8)\n",
    "        end_time = datetime.datetime(2022,1,1,16)\n",
    "        A.create_agent(1,start_time,end_time,Shared = False, Dutyholder = 'OPT')\n",
    "\n",
    "        A.deploy_agents(Shared = False)\n",
    "        A.generate_inspection_report(Shared = False)\n",
    "\n",
    "        i = 0 \n",
    "        for report in A.Report: \n",
    "            report.to_csv(r\"D:\\Shared_service_LDAR\\CVT\\InspectionTime\\Grid{}\\results_opt_{}_{}.csv\".format(rep,ist,i),sep=',')\n",
    "\n",
    "            i += 1 "
   ]
  },
  {
   "cell_type": "markdown",
   "id": "fb27a121",
   "metadata": {},
   "source": [
    "### Forest"
   ]
  },
  {
   "cell_type": "code",
   "execution_count": null,
   "id": "78c2900e",
   "metadata": {},
   "outputs": [],
   "source": [
    "IS = [0.9,0.8,0.7,0.6,0.5,0.4,0.3,0.2,0.1]\n",
    "reps = [0,1,2,3,4,5,6,7,8,9]"
   ]
  },
  {
   "cell_type": "code",
   "execution_count": null,
   "id": "027f0f30",
   "metadata": {},
   "outputs": [],
   "source": [
    "for rep in reps:\n",
    "    for ist in IS:\n",
    "        df1 = pd.read_csv(r\"D:\\Shared_service_LDAR\\CVT\\InspectionTime\\sites{}.csv\".format(rep),sep=',')\n",
    "        TOS = np.array(df1.TOS)\n",
    "        A = LDAR_travel('shared',1,26912,'mirror')\n",
    "        A.read_site_list(r\"D:\\Shared_service_LDAR\\CVT\\InspectionTime\\sites{}.csv\".format(rep),\"lon\",'lat',prj=26912)\n",
    "        X = [0]\n",
    "        Y = [0]\n",
    "        A.create_empty_graph_with_sc(X,Y)\n",
    "        nid,eid = A.create_highways(2138027,676423396,15000,5000,80,setting= \"Forested\")\n",
    "        nid,eid = A.create_gravel_roads_forest (15000,500,10,nid,eid,80,50)\n",
    "        nid,eid = A.create_backroads_forest(nid,eid,50,30)\n",
    "        A.create_GDB('Forested',4326)\n",
    "        A.sites['node'] = A.Site_nodes\n",
    "        A.sites['TOS'] = TOS*ist\n",
    "        \n",
    "       ####################### Shared ########################\n",
    "        start_time = datetime.datetime(2022,1,1,8)\n",
    "        end_time = datetime.datetime(2022,1,1,16)\n",
    "        A.create_agent(1,start_time,end_time)\n",
    "        A.deploy_agents()\n",
    "        A.generate_inspection_report()\n",
    "        i = 0 \n",
    "        for report in A.Report: \n",
    "            report.to_csv(r\"D:\\Shared_service_LDAR\\CVT\\InspectionTime\\Forest{}\\results_share_{}_{}.csv\".format(rep,ist,i),sep=',')\n",
    "\n",
    "            i += 1 \n",
    "\n",
    "        ####################### Duty-holder-Independent#########\n",
    "        start_time = datetime.datetime(2022,1,1,8)\n",
    "        end_time = datetime.datetime(2022,1,1,16)\n",
    "        A.create_agent(1,start_time,end_time,Shared = False, Dutyholder = 'OPT')\n",
    "\n",
    "        A.deploy_agents(Shared = False)\n",
    "        A.generate_inspection_report(Shared = False)\n",
    "\n",
    "        i = 0 \n",
    "        for report in A.Report: \n",
    "            report.to_csv(r\"D:\\Shared_service_LDAR\\CVT\\InspectionTime\\Forest{}\\results_opt_{}_{}.csv\".format(rep,ist,i),sep=',')\n",
    "\n",
    "            i += 1 "
   ]
  },
  {
   "cell_type": "code",
   "execution_count": null,
   "id": "c22822b8",
   "metadata": {},
   "outputs": [],
   "source": []
  }
 ],
 "metadata": {
  "kernelspec": {
   "display_name": "Python 3 (ipykernel)",
   "language": "python",
   "name": "python3"
  },
  "language_info": {
   "codemirror_mode": {
    "name": "ipython",
    "version": 3
   },
   "file_extension": ".py",
   "mimetype": "text/x-python",
   "name": "python",
   "nbconvert_exporter": "python",
   "pygments_lexer": "ipython3",
   "version": "3.9.7"
  }
 },
 "nbformat": 4,
 "nbformat_minor": 5
}
