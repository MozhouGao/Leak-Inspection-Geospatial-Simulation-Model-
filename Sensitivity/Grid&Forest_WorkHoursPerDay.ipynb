{
 "cells": [
  {
   "cell_type": "code",
   "execution_count": 1,
   "id": "3b2b14c7",
   "metadata": {},
   "outputs": [],
   "source": [
    "from LDAR_dutyholder import LDAR_travel\n",
    "import datetime\n",
    "import numpy as np\n",
    "import random\n",
    "import os "
   ]
  },
  {
   "cell_type": "code",
   "execution_count": null,
   "id": "f659693d",
   "metadata": {},
   "outputs": [],
   "source": [
    "path = r\"C:\\Users\\cookg\\Desktop\\LDAR_Travel_Sim\\WorkHours\""
   ]
  },
  {
   "cell_type": "code",
   "execution_count": null,
   "id": "6ea38aaf",
   "metadata": {},
   "outputs": [],
   "source": [
    "listnumbers = [0,1,2,3,4,5,6,7,8,9]\n",
    "# Folders = ['Grid{}'.format(e) for e in listnumbers]\n",
    "# for f in Folders:\n",
    "#     os.makedirs(os.path.join(path, f))\n",
    "\n",
    "Folders = ['Forest{}'.format(e) for e in listnumbers]\n",
    "for f in Folders:\n",
    "    os.makedirs(os.path.join(path, f))"
   ]
  },
  {
   "cell_type": "code",
   "execution_count": null,
   "id": "c22dd215",
   "metadata": {},
   "outputs": [],
   "source": [
    "Hours = [6,7,8,9,10,11,12]"
   ]
  },
  {
   "cell_type": "code",
   "execution_count": null,
   "id": "d52ec3a1",
   "metadata": {},
   "outputs": [],
   "source": [
    "Rep = [0,1,2,3,4,5,6,7,8,9]"
   ]
  },
  {
   "cell_type": "code",
   "execution_count": null,
   "id": "ef86ace0",
   "metadata": {},
   "outputs": [],
   "source": [
    "nopt = 5    \n",
    "sn = 300\n",
    "P = list(range(nopt))\n",
    "OPT = [random.choice(P) for i in range(sn)]\n",
    "\n",
    "while len(set(OPT)) != nopt: \n",
    "    OPT = [random.choice(P) for i in range(sn)]"
   ]
  },
  {
   "cell_type": "code",
   "execution_count": null,
   "id": "69d72f8f",
   "metadata": {},
   "outputs": [],
   "source": [
    "for rep in Rep:\n",
    "    for hr in Hours:\n",
    "        A = LDAR_travel('shared',1,26912,'mirror')\n",
    "        A.read_site_list(r\"D:\\Shared_service_LDAR\\CVT_mins\\WorkHours\\sites{}.csv\".format(rep),\"lon\",'lat',prj=26912)\n",
    "        X = [0]\n",
    "        Y = [0]\n",
    "        A.create_empty_graph_with_sc(X,Y)\n",
    "        nid,eid = A.create_highways(2138027,676423396,15000,5000,80)\n",
    "        nid,eid = A.create_backroads_grid(nid,eid,80,30)\n",
    "        A.create_GDB('Agriculture',4326)\n",
    "        A.sites['node'] = A.Site_nodes\n",
    "\n",
    "        #A.sites['OPT'] = OPT \n",
    "\n",
    "       ####################### Shared ########################\n",
    "        start_time = datetime.datetime(2022,1,1,8)\n",
    "        end_time = datetime.datetime(2022,1,1,8 + hr)\n",
    "        A.create_agent(1,start_time,end_time)\n",
    "        A.deploy_agents()\n",
    "        A.generate_inspection_report()\n",
    "        i = 0 \n",
    "        for report in A.Report: \n",
    "            report.to_csv(r\"D:\\Shared_service_LDAR\\CVT_mins\\WorkHours\\Grid{}\\results_share_{}_{}.csv\".format(rep,hr,i),sep=',')\n",
    "\n",
    "            i += 1 \n",
    "\n",
    "        ####################### Duty-holder-Independent#########\n",
    "        start_time = datetime.datetime(2022,1,1,8)\n",
    "        end_time = datetime.datetime(2022,1,1,8 + hr)\n",
    "        A.create_agent(1,start_time,end_time,Shared = False, Dutyholder = 'OPT')\n",
    "\n",
    "        A.deploy_agents(Shared = False)\n",
    "        A.generate_inspection_report(Shared = False)\n",
    "\n",
    "        i = 0 \n",
    "        for report in A.Report: \n",
    "            report.to_csv(r\"D:\\Shared_service_LDAR\\CVT_mins\\WorkHours\\Grid{}\\results_opt_{}_{}.csv\".format(rep,hr,i),sep=',')\n",
    "\n",
    "            i += 1 \n",
    "        "
   ]
  },
  {
   "cell_type": "markdown",
   "id": "2e8a36da",
   "metadata": {},
   "source": [
    "### Forest "
   ]
  },
  {
   "cell_type": "code",
   "execution_count": null,
   "id": "0f5f5e5e",
   "metadata": {},
   "outputs": [],
   "source": [
    "R = [0,1,2,3,4,5,6,7,8,9]"
   ]
  },
  {
   "cell_type": "code",
   "execution_count": null,
   "id": "fdf40c45",
   "metadata": {},
   "outputs": [],
   "source": [
    "for rep in R:\n",
    "    for hr in Hours:\n",
    "        A = LDAR_travel('shared',1,26912,'mirror')\n",
    "        A.read_site_list(r\"D:\\Shared_service_LDAR\\CVT_mins\\WorkHours\\sites{}.csv\".format(rep),\"lon\",'lat',prj=26912)\n",
    "        X = [0]\n",
    "        Y = [0]\n",
    "        A.create_empty_graph_with_sc(X,Y)\n",
    "        nid,eid = A.create_highways(2138027,676423396,15000,5000,80,setting= \"Forested\")\n",
    "        nid,eid = A.create_gravel_roads_forest (15000,500,10,nid,eid,80,50)\n",
    "        nid,eid = A.create_backroads_forest(nid,eid,50,30)\n",
    "        A.create_GDB('Forested',4326)\n",
    "        \n",
    "        A.sites['node'] = A.Site_nodes\n",
    "        #A.sites['OPT'] = OPT \n",
    "\n",
    "        ####################### Shared ########################\n",
    "        start_time = datetime.datetime(2022,1,1,8)\n",
    "        end_time = datetime.datetime(2022,1,1,8 + hr)\n",
    "        A.create_agent(1,start_time,end_time)\n",
    "        A.deploy_agents()\n",
    "        A.generate_inspection_report()\n",
    "        i = 0 \n",
    "        for report in A.Report: \n",
    "            report.to_csv(r\"D:\\Shared_service_LDAR\\CVT_mins\\WorkHours\\Forest{}\\results_share_{}_{}.csv\".format(rep,hr,i),sep=',')\n",
    "\n",
    "            i += 1 \n",
    "\n",
    "        ####################### Duty-holder-Independent#########\n",
    "        start_time = datetime.datetime(2022,1,1,8)\n",
    "        end_time = datetime.datetime(2022,1,1,8 + hr)\n",
    "        A.create_agent(1,start_time,end_time,Shared = False, Dutyholder = 'OPT')\n",
    "\n",
    "        A.deploy_agents(Shared = False)\n",
    "        A.generate_inspection_report(Shared = False)\n",
    "\n",
    "        i = 0 \n",
    "        for report in A.Report: \n",
    "            report.to_csv(r\"D:\\Shared_service_LDAR\\CVT_mins\\WorkHours\\Forest{}\\results_opt_{}_{}.csv\".format(rep,hr,i),sep=',')\n",
    "\n",
    "            i += 1 \n",
    "         \n"
   ]
  },
  {
   "cell_type": "code",
   "execution_count": null,
   "id": "cd69ea94",
   "metadata": {},
   "outputs": [],
   "source": []
  }
 ],
 "metadata": {
  "kernelspec": {
   "display_name": "Python 3 (ipykernel)",
   "language": "python",
   "name": "python3"
  },
  "language_info": {
   "codemirror_mode": {
    "name": "ipython",
    "version": 3
   },
   "file_extension": ".py",
   "mimetype": "text/x-python",
   "name": "python",
   "nbconvert_exporter": "python",
   "pygments_lexer": "ipython3",
   "version": "3.8.12"
  }
 },
 "nbformat": 4,
 "nbformat_minor": 5
}
