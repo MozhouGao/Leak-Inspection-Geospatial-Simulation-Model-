{
 "cells": [
  {
   "cell_type": "code",
   "execution_count": null,
   "id": "d3ffc3fb",
   "metadata": {},
   "outputs": [],
   "source": [
    "from LDAR_company import LDAR_travel\n",
    "import datetime\n",
    "import numpy as np\n",
    "import random\n",
    "import os "
   ]
  },
  {
   "cell_type": "code",
   "execution_count": null,
   "id": "343a34f2",
   "metadata": {},
   "outputs": [],
   "source": [
    "path = r\"C:\\Users\\cookg\\Desktop\\LDAR_Travel_Sim\\DrivingSpeed\""
   ]
  },
  {
   "cell_type": "code",
   "execution_count": null,
   "id": "d5a22846",
   "metadata": {},
   "outputs": [],
   "source": [
    "listnumbers = [0,1,2,3,4,5,6,7,8,9]\n",
    "Folders = ['Grid{}'.format(e) for e in listnumbers]\n",
    "for f in Folders:\n",
    "    os.makedirs(os.path.join(path, f))"
   ]
  },
  {
   "cell_type": "code",
   "execution_count": null,
   "id": "9f9a737e",
   "metadata": {},
   "outputs": [],
   "source": [
    "listnumbers = [0,1,2,3,4,5,6,7,8,9]\n",
    "Folders = ['Forest{}'.format(e) for e in listnumbers]\n",
    "for f in Folders:\n",
    "    os.makedirs(os.path.join(path, f))"
   ]
  },
  {
   "cell_type": "code",
   "execution_count": null,
   "id": "d6cd8fa3",
   "metadata": {},
   "outputs": [],
   "source": [
    "Speeds = [(50,10),(60,20),(70,30),(80,30),(80,40),(80,50)]"
   ]
  },
  {
   "cell_type": "code",
   "execution_count": null,
   "id": "e9510d2a",
   "metadata": {},
   "outputs": [],
   "source": [
    "Rep = [0,1,2,3,4,5,6,7,8,9]"
   ]
  },
  {
   "cell_type": "code",
   "execution_count": null,
   "id": "69b33830",
   "metadata": {},
   "outputs": [],
   "source": [
    "F_Name = ['A','B','C','D','E','F']"
   ]
  },
  {
   "cell_type": "code",
   "execution_count": null,
   "id": "dd55c3ad",
   "metadata": {},
   "outputs": [],
   "source": [
    "nopt = 5\n",
    "\n",
    "sn = 300\n",
    "P = list(range(nopt))\n",
    "OPT = [random.choice(P) for i in range(sn)]\n",
    "\n",
    "while len(set(OPT)) != nopt: \n",
    "    OPT = [random.choice(P) for i in range(sn)]\n"
   ]
  },
  {
   "cell_type": "code",
   "execution_count": null,
   "id": "9dde5fb6",
   "metadata": {},
   "outputs": [],
   "source": [
    "for rep in Rep:\n",
    "    ind = 0 \n",
    "    for sp in Speeds:\n",
    "        name = F_Name[ind]\n",
    "        sp1 = sp[0]\n",
    "        sp2 = sp[1]\n",
    "    \n",
    "        A = LDAR_travel('shared',1,26912,'mirror')\n",
    "        A.read_site_list(r\"D:\\Shared_service_LDAR\\CVT_mins\\DrivingSpeed\\sites{}.csv\".format(rep),\"lon\",'lat',prj=26912)\n",
    "        X = [0]\n",
    "        Y = [0]\n",
    "        A.create_empty_graph_with_sc(X,Y)\n",
    "        nid,eid = A.create_highways(2138027,676423396,15000,5000,sp1)\n",
    "        nid,eid = A.create_backroads_grid(nid,eid,sp1,sp2)\n",
    "        A.create_GDB('Agriculture',4326)\n",
    "        A.sites['node'] = A.Site_nodes\n",
    "        #A.sites['OPT'] = OPT \n",
    "\n",
    "       ####################### Shared ########################\n",
    "        start_time = datetime.datetime(2022,1,1,8)\n",
    "        end_time = datetime.datetime(2022,1,1,16)\n",
    "        A.create_agent(1,start_time,end_time)\n",
    "        A.deploy_agents()\n",
    "        A.generate_inspection_report()\n",
    "        i = 0 \n",
    "        for report in A.Report: \n",
    "            report.to_csv(r\"D:\\Shared_service_LDAR\\CVT_mins\\DrivingSpeed\\Grid{}\\results_share_{}_{}.csv\".format(rep,name,i),sep=',')\n",
    "\n",
    "            i += 1 \n",
    "\n",
    "        ####################### Duty-holder-Independent#########\n",
    "        start_time = datetime.datetime(2022,1,1,8)\n",
    "        end_time = datetime.datetime(2022,1,1,16)\n",
    "        A.create_agent(1,start_time,end_time,Shared = False, Dutyholder = 'OPT')\n",
    "\n",
    "        A.deploy_agents(Shared = False)\n",
    "        A.generate_inspection_report(Shared = False)\n",
    "\n",
    "        i = 0 \n",
    "        for report in A.Report: \n",
    "            report.to_csv(r\"D:\\Shared_service_LDAR\\CVT_mins\\DrivingSpeed\\Grid{}\\results_opt_{}_{}.csv\".format(rep,name,i),sep=',')\n",
    "\n",
    "            i += 1 \n",
    "        \n",
    "        ind +=1 "
   ]
  },
  {
   "cell_type": "markdown",
   "id": "f73d8978",
   "metadata": {},
   "source": [
    "##### Forest "
   ]
  },
  {
   "cell_type": "code",
   "execution_count": null,
   "id": "cfdc35de",
   "metadata": {},
   "outputs": [],
   "source": [
    "F_Name = ['A','B','C','D','E']"
   ]
  },
  {
   "cell_type": "code",
   "execution_count": null,
   "id": "d02c219b",
   "metadata": {},
   "outputs": [],
   "source": [
    "Speeds = [(60,30,10),(70,40,20),(80,50,30),(90,60,40),(100,70,50)]"
   ]
  },
  {
   "cell_type": "code",
   "execution_count": null,
   "id": "75fa18d0",
   "metadata": {},
   "outputs": [],
   "source": [
    "R = [0,1,2,3,4,5,6,7,8,9]"
   ]
  },
  {
   "cell_type": "code",
   "execution_count": null,
   "id": "0ef4373e",
   "metadata": {},
   "outputs": [],
   "source": [
    "for rep in R:\n",
    "#     nopt = 5\n",
    "#     num = 300\n",
    "    ind = 0 \n",
    "    for sp in Speeds:\n",
    "        name = F_Name[ind]\n",
    "        sp1 = sp[0]\n",
    "        sp2 = sp[1]\n",
    "        sp3 = sp[2]\n",
    "        A = LDAR_travel('shared',1,26912,'mirror')\n",
    "        A.read_site_list(r\"D:\\Shared_service_LDAR\\CVT_mins\\DrivingSpeed\\sites{}.csv\".format(rep),\"lon\",'lat',prj=26912)\n",
    "        X = [0]\n",
    "        Y = [0]\n",
    "        A.create_empty_graph_with_sc(X,Y)\n",
    "        nid,eid = A.create_highways(2138027,676423396,15000,5000,sp1,setting= \"Forested\")\n",
    "        nid,eid = A.create_gravel_roads_forest (15000,500,10,nid,eid,sp1,sp2)\n",
    "        nid,eid = A.create_backroads_forest(nid,eid,sp2,sp3)\n",
    "        A.create_GDB('Forested',4326)\n",
    "        \n",
    "        A.sites['node'] = A.Site_nodes\n",
    "#         P = list(range(nopt))\n",
    "#         OPT = [random.choice(P) for i in range(num)]\n",
    "\n",
    "#         while len(set(OPT)) != nopt: \n",
    "#             OPT = [random.choice(P) for i in range(num)]\n",
    "\n",
    "       # A.sites['OPT'] = OPT \n",
    "\n",
    "        ####################### Shared ########################\n",
    "        start_time = datetime.datetime(2022,1,1,8)\n",
    "        end_time = datetime.datetime(2022,1,1,16)\n",
    "        A.create_agent(1,start_time,end_time)\n",
    "        A.deploy_agents()\n",
    "        A.generate_inspection_report()\n",
    "        i = 0 \n",
    "        for report in A.Report: \n",
    "            report.to_csv(r\"D:\\Shared_service_LDAR\\CVT_mins\\DrivingSpeed\\Forest{}\\results_share_{}_{}.csv\".format(rep,name,i),sep=',')\n",
    "\n",
    "            i += 1 \n",
    "\n",
    "        ####################### Duty-holder-Independent#########\n",
    "        start_time = datetime.datetime(2022,1,1,8)\n",
    "        end_time = datetime.datetime(2022,1,1,16)\n",
    "        A.create_agent(1,start_time,end_time,Shared = False, Dutyholder = 'OPT')\n",
    "\n",
    "        A.deploy_agents(Shared = False)\n",
    "        A.generate_inspection_report(Shared = False)\n",
    "\n",
    "        i = 0 \n",
    "        for report in A.Report: \n",
    "            report.to_csv(r\"D:\\Shared_service_LDAR\\CVT_mins\\DrivingSpeed\\Forest{}\\results_opt_{}_{}.csv\".format(rep,name,i),sep=',')\n",
    "\n",
    "            i += 1 \n",
    "        \n",
    "        ind += 1 \n"
   ]
  },
  {
   "cell_type": "code",
   "execution_count": null,
   "id": "cc4e8b9c",
   "metadata": {},
   "outputs": [],
   "source": []
  },
  {
   "cell_type": "code",
   "execution_count": null,
   "id": "6158756e",
   "metadata": {},
   "outputs": [],
   "source": []
  },
  {
   "cell_type": "code",
   "execution_count": null,
   "id": "3a0b6193",
   "metadata": {},
   "outputs": [],
   "source": []
  }
 ],
 "metadata": {
  "kernelspec": {
   "display_name": "Python 3 (ipykernel)",
   "language": "python",
   "name": "python3"
  },
  "language_info": {
   "codemirror_mode": {
    "name": "ipython",
    "version": 3
   },
   "file_extension": ".py",
   "mimetype": "text/x-python",
   "name": "python",
   "nbconvert_exporter": "python",
   "pygments_lexer": "ipython3",
   "version": "3.9.7"
  }
 },
 "nbformat": 4,
 "nbformat_minor": 5
}
