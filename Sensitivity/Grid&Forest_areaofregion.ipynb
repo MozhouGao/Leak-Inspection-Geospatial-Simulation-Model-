{
 "cells": [
  {
   "cell_type": "code",
   "execution_count": null,
   "id": "eac4aa7a",
   "metadata": {},
   "outputs": [],
   "source": [
    "from LDAR_company import LDAR_travel\n",
    "import datetime\n",
    "import numpy as np\n",
    "import random\n",
    "import os \n",
    "import pandas as pd "
   ]
  },
  {
   "cell_type": "code",
   "execution_count": null,
   "id": "f3d8bc84",
   "metadata": {},
   "outputs": [],
   "source": [
    "path = r\"C:\\Users\\cookg\\Desktop\\LDAR_Travel_Sim\\AreaofRegion\""
   ]
  },
  {
   "cell_type": "code",
   "execution_count": null,
   "id": "bed3f211",
   "metadata": {},
   "outputs": [],
   "source": [
    "listnumbers = [0,1,2,3,4,5,6,7,8,9]\n",
    "Folders = ['Grid{}'.format(e) for e in listnumbers]\n",
    "for f in Folders:\n",
    "    os.makedirs(os.path.join(path, f))\n",
    "    \n",
    "Folders = ['Forest{}'.format(e) for e in listnumbers]\n",
    "for f in Folders:\n",
    "    os.makedirs(os.path.join(path, f))"
   ]
  },
  {
   "cell_type": "code",
   "execution_count": null,
   "id": "0297d6c1",
   "metadata": {},
   "outputs": [],
   "source": [
    "A = LDAR_travel('shared',1,26912,'mirror')\n",
    "X = [0]\n",
    "Y = [0]\n",
    "A.create_empty_graph_with_sc(X,Y)\n",
    "A.create_random_points_as_LDAR_sites(299,10000)\n",
    "nid,eid = A.create_highways(2138027,676423396,10000,5000,80)\n",
    "nid,eid = A.create_backroads_grid(nid,eid,80,30)\n",
    "A.create_GDB('Agriculture',4326)\n",
    "A.create_plot(setting = \"Agriculture\")"
   ]
  },
  {
   "cell_type": "code",
   "execution_count": null,
   "id": "18e0bb71",
   "metadata": {},
   "outputs": [],
   "source": [
    "Areas = [10000,15000,20000,25000,30000,35000,40000]"
   ]
  },
  {
   "cell_type": "code",
   "execution_count": null,
   "id": "a4f801bc",
   "metadata": {},
   "outputs": [],
   "source": [
    "reps = [0,1,2,3,4,5,6,7,8,9]"
   ]
  },
  {
   "cell_type": "code",
   "execution_count": null,
   "id": "5dca194b",
   "metadata": {},
   "outputs": [],
   "source": [
    "for rep in reps:\n",
    "    for ran in Areas:\n",
    "        A = LDAR_travel('shared',1,26912,'mirror')\n",
    "        X = [0]\n",
    "        Y = [0]\n",
    "        A.create_empty_graph_with_sc(X,Y)\n",
    "        nid,eid = A.create_highways(2138027,676423396,ran,5000,80)\n",
    "        A.create_random_points_as_LDAR_sites(299,ran)\n",
    "        A.sites['lon'] = A.sites.geometry.x\n",
    "        A.sites['lat'] = A.sites.geometry.y\n",
    "        A.sites['dist_diff'] = np.zeros(len(A.sites))\n",
    "        A.sites['time_diff'] = np.zeros(len(A.sites))\n",
    "        A.sites['siteID'] = np.arange(1,len(A.sites)+1,1)\n",
    "        nopt = 5 \n",
    "        sn = 300\n",
    "        P = list(range(nopt))\n",
    "        OPT = [random.choice(P) for i in range(sn)]\n",
    "\n",
    "        while len(set(OPT)) != nopt: \n",
    "            OPT = [random.choice(P) for i in range(sn)]\n",
    "\n",
    "        A.sites['OPT'] = OPT \n",
    "\n",
    "        A.sample_inspection_time(r'D:\\Shared_service_LDAR\\ins_time.csv')\n",
    "        A.sites.to_csv(r\"D:\\Shared_service_LDAR\\CVT_mins\\AreaofRegion\\sites_{}_{}.csv\".format(rep,ran),sep=',')\n",
    "    \n",
    "    \n",
    "    "
   ]
  },
  {
   "cell_type": "code",
   "execution_count": null,
   "id": "d5e274ee",
   "metadata": {},
   "outputs": [],
   "source": [
    "Rep = [0,1,2,3,4,5,6,7,8,9]"
   ]
  },
  {
   "cell_type": "markdown",
   "id": "5ddab84c",
   "metadata": {},
   "source": [
    "### Grid "
   ]
  },
  {
   "cell_type": "code",
   "execution_count": null,
   "id": "c80aa08d",
   "metadata": {},
   "outputs": [],
   "source": [
    "Areas = [10000,15000,20000,25000,30000,35000,40000]\n",
    "Rep = [0,1,2,3,4,5,6,7,8,9]"
   ]
  },
  {
   "cell_type": "code",
   "execution_count": null,
   "id": "683f3213",
   "metadata": {},
   "outputs": [],
   "source": [
    "for rep in Rep:\n",
    "    RL = [] \n",
    "    for area in Areas:\n",
    "        A = LDAR_travel('shared',1,26912,'mirror')\n",
    "        A.read_site_list(r\"D:\\Shared_service_LDAR\\CVT_mins\\AreaofRegion\\sites_{}_{}.csv\".format(rep,area),\"lon\",'lat',prj=26912)\n",
    "        X = [0]\n",
    "        Y = [0]\n",
    "        A.create_empty_graph_with_sc(X,Y)\n",
    "        nid,eid = A.create_highways(2138027,676423396,area,5000,80)\n",
    "        nid,eid = A.create_backroads_grid(nid,eid,80,30)\n",
    "        A.create_GDB('Agriculture',4326)\n",
    "        \n",
    "        road_length = sum(A.BR.length) + sum(A.highways.length)\n",
    "        RL.append(road_length)\n",
    "        \n",
    "        A.sites['node'] = A.Site_nodes\n",
    "        \n",
    "       ####################### Shared ########################\n",
    "        start_time = datetime.datetime(2022,1,1,8)\n",
    "        end_time = datetime.datetime(2022,1,1,16)\n",
    "        A.create_agent(1,start_time,end_time)\n",
    "        A.deploy_agents()\n",
    "        A.generate_inspection_report()\n",
    "        i = 0 \n",
    "        for report in A.Report: \n",
    "            report.to_csv(r\"D:\\Shared_service_LDAR\\CVT_mins\\AreaofRegion\\Grid{}\\results_share_{}_{}.csv\".format(rep,area,i),sep=',')\n",
    "\n",
    "            i += 1 \n",
    "\n",
    "        ####################### Duty-holder-Independent#########\n",
    "        start_time = datetime.datetime(2022,1,1,8)\n",
    "        end_time = datetime.datetime(2022,1,1,16)\n",
    "        A.create_agent(1,start_time,end_time,Shared = False, Dutyholder = 'OPT')\n",
    "\n",
    "        A.deploy_agents(Shared = False)\n",
    "        A.generate_inspection_report(Shared = False)\n",
    "\n",
    "        i = 0 \n",
    "        for report in A.Report: \n",
    "            report.to_csv(r\"D:\\Shared_service_LDAR\\CVT_mins\\AreaofRegion\\Grid{}\\results_opt_{}_{}.csv\".format(rep,area,i),sep=',')\n",
    "\n",
    "            i += 1 da\n",
    "            \n",
    "    df1 = pd.DataFrame(data = {'road_length':RL,\n",
    "                              'Areas':Areas})\n",
    "    \n",
    "    df1.to_csv(r\"D:\\Shared_service_LDAR\\CVT_mins\\AreaofRegion\\Grid{}\\road_length.csv\".format(rep),sep=',')"
   ]
  },
  {
   "cell_type": "markdown",
   "id": "6f060185",
   "metadata": {},
   "source": [
    "### Forest"
   ]
  },
  {
   "cell_type": "code",
   "execution_count": null,
   "id": "f438ecba",
   "metadata": {},
   "outputs": [],
   "source": [
    "R = [0,1,2,3,4,5,6,7,8,9]\n",
    "Areas = [10000,15000,20000,25000,30000,35000,40000]"
   ]
  },
  {
   "cell_type": "code",
   "execution_count": null,
   "id": "6f7d751f",
   "metadata": {},
   "outputs": [],
   "source": [
    "for rep in R:\n",
    "    RL = [] \n",
    "    for area in Areas:\n",
    "        A = LDAR_travel('shared',1,26912,'mirror')\n",
    "        A.read_site_list(r\"D:\\Shared_service_LDAR\\CVT_mins\\AreaofRegion\\sites_{}_{}.csv\".format(rep,area),\"lon\",'lat',prj=26912)\n",
    "        X = [0]\n",
    "        Y = [0]\n",
    "        A.create_empty_graph_with_sc(X,Y)\n",
    "        nid,eid = A.create_highways(2138027,676423396,area,5000,80,setting= \"Forested\")\n",
    "        nid,eid = A.create_gravel_roads_forest (area,500,10,nid,eid,80,50)\n",
    "        nid,eid = A.create_backroads_forest(nid,eid,50,30)\n",
    "        A.create_GDB('Forested',4326)\n",
    "        \n",
    "        road_length = sum(A.BR.length) + sum(A.highways.length) + sum(A.gravelroads.length)\n",
    "        RL.append(road_length)\n",
    "        \n",
    "        A.sites['node'] = A.Site_nodes\n",
    "        \n",
    "       ####################### Shared ########################\n",
    "        start_time = datetime.datetime(2022,1,1,8)\n",
    "        end_time = datetime.datetime(2022,1,1,16)\n",
    "        A.create_agent(1,start_time,end_time)\n",
    "        A.deploy_agents()\n",
    "        A.generate_inspection_report()\n",
    "        i = 0 \n",
    "        for report in A.Report: \n",
    "            report.to_csv(r\"D:\\Shared_service_LDAR\\CVT_mins\\AreaofRegion\\Forest{}\\results_share_{}_{}.csv\".format(rep,area,i),sep=',')\n",
    "\n",
    "            i += 1 \n",
    "\n",
    "        ####################### Duty-holder-Independent#########\n",
    "        start_time = datetime.datetime(2022,1,1,8)\n",
    "        end_time = datetime.datetime(2022,1,1,16)\n",
    "        A.create_agent(1,start_time,end_time,Shared = False, Dutyholder = 'OPT')\n",
    "\n",
    "        A.deploy_agents(Shared = False)\n",
    "        A.generate_inspection_report(Shared = False)\n",
    "\n",
    "        i = 0 \n",
    "        for report in A.Report: \n",
    "            report.to_csv(r\"D:\\Shared_service_LDAR\\CVT_mins\\AreaofRegion\\Forest{}\\results_opt_{}_{}.csv\".format(rep,area,i),sep=',')\n",
    "\n",
    "            i += 1 \n",
    "            \n",
    "    df1 = pd.DataFrame(data = {'road_length':RL,\n",
    "                              'Areas':Areas})\n",
    "    \n",
    "    df1.to_csv(r\"D:\\Shared_service_LDAR\\CVT_mins\\AreaofRegion\\Forest{}\\road_length.csv\".format(rep),sep=',')"
   ]
  },
  {
   "cell_type": "code",
   "execution_count": null,
   "id": "94c6ea1e",
   "metadata": {},
   "outputs": [],
   "source": []
  }
 ],
 "metadata": {
  "kernelspec": {
   "display_name": "Python 3 (ipykernel)",
   "language": "python",
   "name": "python3"
  },
  "language_info": {
   "codemirror_mode": {
    "name": "ipython",
    "version": 3
   },
   "file_extension": ".py",
   "mimetype": "text/x-python",
   "name": "python",
   "nbconvert_exporter": "python",
   "pygments_lexer": "ipython3",
   "version": "3.9.7"
  }
 },
 "nbformat": 4,
 "nbformat_minor": 5
}
